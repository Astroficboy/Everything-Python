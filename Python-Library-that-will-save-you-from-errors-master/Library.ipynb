{
 "cells": [
  {
   "cell_type": "markdown",
   "metadata": {},
   "source": [
    "Operators"
   ]
  },
  {
   "cell_type": "code",
   "execution_count": 20,
   "metadata": {},
   "outputs": [
    {
     "name": "stdout",
     "output_type": "stream",
     "text": [
      "[1, 2, 3]\n",
      "True\n",
      "True\n",
      "True\n",
      "False\n",
      "True\n"
     ]
    }
   ],
   "source": [
    "L = [1, 2, 3]\n",
    "M = L\n",
    "print(M)\n",
    "print(L == M)    #the == operator, tests whether the two referenced objects have the same values\n",
    "print(L is M)    #the is operator, instead tests for object identity—it returns True only if both names point to the exact same object\n",
    "\n",
    "L = [1, 2, 3]\n",
    "M = [1, 2, 3]\n",
    "print(L == M)    #same values\n",
    "print(L is M)    #different objects\n",
    "\n",
    "A = 4\n",
    "B = 4\n",
    "print(A is B)    #small vlaues are cached and aren't considered as different objects to make it faster"
   ]
  },
  {
   "cell_type": "markdown",
   "metadata": {},
   "source": [
    "Mutable/Immutable"
   ]
  },
  {
   "cell_type": "code",
   "execution_count": 21,
   "metadata": {
    "scrolled": false
   },
   "outputs": [
    {
     "name": "stdout",
     "output_type": "stream",
     "text": [
      "[1, 2, 3]\n",
      "1 . [24, 2, 3] [24, 2, 3]\n",
      "2 . [1, 2, 3] [1, 2, 3]\n",
      "3 . [24, 2, 3] [1, 2, 3]\n"
     ]
    }
   ],
   "source": [
    "#list, set, dict are mutable\n",
    "#these object types can be replaced with other values in it and shared references will be affected too\n",
    "a = [1, 2, 3] \n",
    "b = {1 ,2, 3}\n",
    "c = {\n",
    "    'a' : 'list',\n",
    "    'b' : 'set',\n",
    "    'c' : 'dict'\n",
    "}\n",
    "\n",
    "\n",
    "\n",
    "\n",
    "#int, float, bool, str, tuple, unicode\n",
    "#these object types cannot be replaced with other values in it, shared references will not be affected\n",
    "d = 1\n",
    "e = 1.0\n",
    "f = True\n",
    "g = 'String'\n",
    "h = (1, 2, 3)\n",
    "\n",
    "\n",
    "\n",
    "\n",
    "\n",
    "i = [1, 2, 3]\n",
    "j = i\n",
    "print(j)\n",
    "\n",
    "#now if you make a change in i it will change j's value too\n",
    "i[0] = 24\n",
    "print(1,'.',i,j)\n",
    "\n",
    "i[0] = 1\n",
    "print(2,'.',i, j)\n",
    "#to revent from changing value of j\n",
    "j = i[:]     #copy i's value using built-in copy method or slice ':' from start to end\n",
    "             #slicing wont work on other murable objects which arent sequences like lists\n",
    "#now if you change i's value it wont change j's value\n",
    "i[0]= 24\n",
    "print(3,'.',i ,j)  #TADA!!!"
   ]
  },
  {
   "cell_type": "markdown",
   "metadata": {},
   "source": [
    "Sets"
   ]
  },
  {
   "cell_type": "code",
   "execution_count": 1,
   "metadata": {},
   "outputs": [
    {
     "name": "stdout",
     "output_type": "stream",
     "text": [
      "{'a', 'c', 'b', 'd'}\n",
      "1 . {'b'}\n",
      "2 . {'a', 'c'}\n",
      "3 . {'d'}\n",
      "4 . False\n",
      "5 . {'a', 'c', 'd'}\n",
      "{'a', 'b', 'd', 'c', 'P'}\n",
      "{'a', 'X', 'b', 'd', 'c', 'P', 'Y'}\n",
      "{16, 1, 4, 9}\n",
      "aaa\n",
      "XXX\n",
      "bbb\n",
      "ddd\n",
      "YYY\n",
      "ccc\n",
      "PPP\n",
      "False\n",
      "False\n",
      "{'a', 'c', 'b', (1, 2, 3)}\n"
     ]
    },
    {
     "ename": "TypeError",
     "evalue": "'set' object is not subscriptable",
     "output_type": "error",
     "traceback": [
      "\u001b[1;31m---------------------------------------------------------------------------\u001b[0m",
      "\u001b[1;31mTypeError\u001b[0m                                 Traceback (most recent call last)",
      "\u001b[1;32m<ipython-input-1-1cb893862bf9>\u001b[0m in \u001b[0;36m<module>\u001b[1;34m\u001b[0m\n\u001b[0;32m     24\u001b[0m \u001b[0mprint\u001b[0m\u001b[1;33m(\u001b[0m\u001b[0mx\u001b[0m\u001b[1;33m)\u001b[0m \u001b[1;31m# No list or dict, but tuple okay\u001b[0m\u001b[1;33m\u001b[0m\u001b[1;33m\u001b[0m\u001b[0m\n\u001b[0;32m     25\u001b[0m \u001b[1;33m{\u001b[0m\u001b[1;36m1.23\u001b[0m\u001b[1;33m,\u001b[0m \u001b[1;33m(\u001b[0m\u001b[1;36m1\u001b[0m\u001b[1;33m,\u001b[0m \u001b[1;36m2\u001b[0m\u001b[1;33m,\u001b[0m \u001b[1;36m3\u001b[0m\u001b[1;33m)\u001b[0m\u001b[1;33m}\u001b[0m\u001b[1;33m\u001b[0m\u001b[1;33m\u001b[0m\u001b[0m\n\u001b[1;32m---> 26\u001b[1;33m \u001b[0mprint\u001b[0m\u001b[1;33m(\u001b[0m\u001b[0ma\u001b[0m\u001b[1;33m[\u001b[0m\u001b[1;36m0\u001b[0m\u001b[1;33m]\u001b[0m\u001b[1;33m)\u001b[0m                    \u001b[1;31m#As sets are unordered they do not suppert indexing and slixing\u001b[0m\u001b[1;33m\u001b[0m\u001b[1;33m\u001b[0m\u001b[0m\n\u001b[0m",
      "\u001b[1;31mTypeError\u001b[0m: 'set' object is not subscriptable"
     ]
    }
   ],
   "source": [
    "a = set('abcd')\n",
    "x = {'a', 'b', 'c'}\n",
    "y = {'b', 'd'}\n",
    "print(a)\n",
    "print(1, '.', x&y)              #Alternative - intersection, x.intersection(y)\n",
    "print(2, '.', x - y)            #Alternative - difference, x.difference(y)\n",
    "print(3, '.', y - x)            #Alternative - difference, y.difference(x)\n",
    "print(4, '.', 'e' in x)\n",
    "print(5, '.', x^y)              #new set with elements in either s or t but not both, s.symmetric_difference(t)\n",
    "a.add('P')\n",
    "print(a)\n",
    "a.update(set(['X', 'Y']))\n",
    "print(a)\n",
    "print({x**2 for x in [1, 2, 3, 4]})\n",
    "for item in set(a):\n",
    "    print(item*3)\n",
    "print(x.issubset(y))\n",
    "print(x.issuperset(y))\n",
    "\"\"\"S.add([1, 2, 3]) # Only mutable objects work in a set\n",
    "TypeError: unhashable type: 'list'\n",
    "S.add({'a':1})\n",
    "TypeError: unhashable type: 'dict'\"\"\"\n",
    "x.add((1, 2, 3))\n",
    "print(x) # No list or dict, but tuple okay\n",
    "{1.23, (1, 2, 3)}\n",
    "print(a[0])                    #As sets are unordered they do not support indexing and slicing "
   ]
  },
  {
   "cell_type": "markdown",
   "metadata": {},
   "source": [
    "Booleans"
   ]
  },
  {
   "cell_type": "code",
   "execution_count": 94,
   "metadata": {},
   "outputs": [
    {
     "name": "stdout",
     "output_type": "stream",
     "text": [
      "False True False\n",
      "True\n",
      "False\n",
      "2\n"
     ]
    }
   ],
   "source": [
    "print(1>2, 1<2, 3>5)\n",
    "print(True == 1)        #Logically true is 1\n",
    "print(True is 1)        #But different object types in python\n",
    "print(True + 1)         #But recognises True as an int in matehamtical operations as 1"
   ]
  },
  {
   "cell_type": "markdown",
   "metadata": {},
   "source": [
    "Dictionaries"
   ]
  },
  {
   "cell_type": "code",
   "execution_count": 13,
   "metadata": {},
   "outputs": [
    {
     "name": "stdout",
     "output_type": "stream",
     "text": [
      "1 . dict_keys(['Pranav', 'Madhura', 'Veera'])\n",
      "2 . dict_values(['Entrepreneur', 'CA, Writer', 'Lawyer, Painter'])\n",
      "3 . dict_values(['Fat lab', 'Origin'])\n",
      "4 . 2\n",
      "5 . None\n",
      "{'Pranav': 'Entrepreneur', 'Madhura': 'CA, Writer', 'Veera': 'Lawyer, Painter', 'Meeting point': 'Fat lab', 'Optional': 'Origin'}\n",
      "6 . Origin\n",
      "{'Meeting point': 'Fat lab'}\n",
      "7 . {'Meeting point': 'Fat lab', 'Another option': 'Vaishali'}\n"
     ]
    }
   ],
   "source": [
    "a = {'Pranav':'Entrepreneur', 'Madhura':'CA, Writer', 'Veera':'Lawyer, Painter'}\n",
    "b = {'Meeting point':'Fat lab', 'Optional':'Origin'}\n",
    "a\n",
    "print(1, '.', a.keys())\n",
    "print(2, '.', a.values())\n",
    "print(3, '.', b.values())\n",
    "print(4, '.', a.get('To eat', 2))\n",
    "print(5, '.', a.update(b))#merges two dictionaries\n",
    "print(a)\n",
    "print(6, '.', b.pop('Optional'))#deletes\n",
    "print(b)\n",
    "b['Another option']='Vaishali' #changes the value or adds a new key and value if not present to change\n",
    "print(7, '.', b)"
   ]
  },
  {
   "cell_type": "markdown",
   "metadata": {},
   "source": [
    "Numbers"
   ]
  },
  {
   "cell_type": "code",
   "execution_count": 102,
   "metadata": {},
   "outputs": [
    {
     "name": "stdout",
     "output_type": "stream",
     "text": [
      "1 . 13\n",
      "2 . 25\n",
      "3 . 13\n",
      "4 . 5.0\n",
      "5 . 5 3 4\n",
      "2.0\n",
      "2.0\n",
      "2.0\n",
      "2.7755575615628914e-17\n",
      "0.0\n",
      "0.02\n",
      "0.6666666666666666\n",
      "0.67\n",
      "0\n",
      "0\n",
      "0o2\n",
      "0x2\n",
      "0b10\n"
     ]
    }
   ],
   "source": [
    "#in python if you want to put multiple operators in the same expression eg. +,*,/,|,% etc. it gives preference to the\n",
    "#operators lower in the 'Python expression operators and precedence' table. So if you want a certain outcome, first check\n",
    "#the result that yuou want and use operatos and brackets accordingly\n",
    "#Using brakcets is always better\n",
    "import math\n",
    "a=2\n",
    "b=3\n",
    "print(1, '.', 2+3*3+2)        #no brackets\n",
    "print(2, '.', (2+3)*(3+2))    #Same expression with brackets has different output\n",
    "print(3, '.', 2+(3*3)+2)      #same as no brackets\n",
    "print(4, '.', 2+3.0)          #Two different types of integers\n",
    "print(5, '.', a+b, a+1, b+1)  #String has been assigned an INT value before addition it's called a 'Variable'\n",
    "\n",
    "#there are three ways to find a square root in python\n",
    "print(math.sqrt(4))           #using a module for thos you have to first import a 'math' module\n",
    "print(4** .5)                 #expression\n",
    "print(pow(4, .5))             #Built-in funcion\n",
    "\n",
    "#Decimals\n",
    "print(0.1+0.1-0.3+0.1)        #the result should be zero but its not, it is because memory assigned to decimals is limited\n",
    "from decimal import Decimal   #using Decimal gives accurate result\n",
    "print(Decimal('0.1') + Decimal('0.1') + Decimal('0.1') - Decimal('0.3'))\n",
    "import decimal\n",
    "print(decimal.Decimal(2)/decimal.Decimal(100))\n",
    "with decimal.localcontext() as ctx: \n",
    "    ctx.prec=2                #You can also assign how many decimal places you want to see\n",
    "    decimal.Decimal(2)/decimal.Decimal(100)\n",
    "from fractions import Fraction\n",
    "g = 4/6\n",
    "print(g)\n",
    "print(round(g, 2))\n",
    "print(math.trunc(g))\n",
    "print(math.floor(g))\n",
    "print(oct(a))\n",
    "print(hex(a))\n",
    "print(bin(a))"
   ]
  },
  {
   "cell_type": "code",
   "execution_count": 1,
   "metadata": {},
   "outputs": [
    {
     "name": "stdout",
     "output_type": "stream",
     "text": [
      "True\n",
      "False\n",
      "True\n"
     ]
    }
   ],
   "source": [
    "#'is' and '==' difference\n",
    "a = [1, 2]\n",
    "b = [1, 2]\n",
    "print(a == b)    # == checks values\n",
    "print(a is b)    #is checks objects references\n",
    "a = b\n",
    "print(a is b)    #now they both are refering to the same object"
   ]
  },
  {
   "cell_type": "code",
   "execution_count": null,
   "metadata": {},
   "outputs": [],
   "source": []
  }
 ],
 "metadata": {
  "kernelspec": {
   "display_name": "Python 3",
   "language": "python",
   "name": "python3"
  },
  "language_info": {
   "codemirror_mode": {
    "name": "ipython",
    "version": 3
   },
   "file_extension": ".py",
   "mimetype": "text/x-python",
   "name": "python",
   "nbconvert_exporter": "python",
   "pygments_lexer": "ipython3",
   "version": "3.7.4"
  }
 },
 "nbformat": 4,
 "nbformat_minor": 2
}
