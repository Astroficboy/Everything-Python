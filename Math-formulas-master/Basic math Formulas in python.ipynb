{
 "cells": [
  {
   "cell_type": "markdown",
   "metadata": {},
   "source": [
    "Area"
   ]
  },
  {
   "cell_type": "code",
   "execution_count": 44,
   "metadata": {},
   "outputs": [],
   "source": [
    "import math\n",
    "import cmath"
   ]
  },
  {
   "cell_type": "code",
   "execution_count": 1,
   "metadata": {},
   "outputs": [],
   "source": [
    "#Square\n",
    "\n",
    "def area_square(length):\n",
    "    area_of_square = length*length\n",
    "    return area"
   ]
  },
  {
   "cell_type": "code",
   "execution_count": 3,
   "metadata": {},
   "outputs": [],
   "source": [
    "#Rectangle\n",
    "\n",
    "def area_rectangle(width, height):\n",
    "    area_of_rectangle = width*height\n",
    "    return area_of_rectangle"
   ]
  },
  {
   "cell_type": "code",
   "execution_count": 5,
   "metadata": {},
   "outputs": [],
   "source": [
    "#Triangle\n",
    "\n",
    "def area_triangle(base, height):\n",
    "    area_of_triangle = (base*height)/2\n",
    "    return area_of_triangle"
   ]
  },
  {
   "cell_type": "code",
   "execution_count": 6,
   "metadata": {},
   "outputs": [],
   "source": [
    "#Rhombus\n",
    "\n",
    "def area_rhombus(large_diagonal, small_diagonal):\n",
    "    area_of_rhombus = (large_diagonal * small_diagonal)/2\n",
    "    return area_of_rhombus"
   ]
  },
  {
   "cell_type": "code",
   "execution_count": 12,
   "metadata": {},
   "outputs": [],
   "source": [
    "#Trapezoid\n",
    "\n",
    "def area_trapezoid(large_side, small_side, height):\n",
    "    area_of_trapezoid = ((large_side + small_side)/2)*height\n",
    "    return area_of_trapezoid"
   ]
  },
  {
   "cell_type": "code",
   "execution_count": 14,
   "metadata": {},
   "outputs": [],
   "source": [
    "#Regular polygon\n",
    "\n",
    "def area_regular_polygon(perimeter, apothem):\n",
    "    area_of_rp = (perimeter/2)*apothem\n",
    "    return area_of_rp"
   ]
  },
  {
   "cell_type": "code",
   "execution_count": 27,
   "metadata": {},
   "outputs": [],
   "source": [
    "#Circle\n",
    "\n",
    "def area_circle(radius):\n",
    "    area_of_circle = math.pi*radius\n",
    "    decimals = format(area_of_circle, '.3f')\n",
    "    return decimals"
   ]
  },
  {
   "cell_type": "code",
   "execution_count": 29,
   "metadata": {},
   "outputs": [],
   "source": [
    "#Cone lateral surface\n",
    "\n",
    "def area_cone(radius, slant_height):\n",
    "    area_of_cone = (math.pi*radius) * slant_height\n",
    "    decimals = format(area_of_cone, '.3f')\n",
    "    return decimals"
   ]
  },
  {
   "cell_type": "code",
   "execution_count": 30,
   "metadata": {},
   "outputs": [],
   "source": [
    "#Sphere surface area\n",
    "\n",
    "def surfarea_sphere(radius):\n",
    "    area_of_sphere = 4*math.pi*(radius**2)\n",
    "    decimals = format(area_of_sphere, '.3f')\n",
    "    return decimals"
   ]
  },
  {
   "cell_type": "markdown",
   "metadata": {},
   "source": [
    "Volumes"
   ]
  },
  {
   "cell_type": "code",
   "execution_count": 31,
   "metadata": {},
   "outputs": [],
   "source": [
    "#Cube\n",
    "\n",
    "def volume_cube(side):\n",
    "    volume_of_cube = side**3\n",
    "    return volume_of_cube"
   ]
  },
  {
   "cell_type": "code",
   "execution_count": 32,
   "metadata": {},
   "outputs": [],
   "source": [
    "#Parallelepiped\n",
    "\n",
    "def volume_parallelpiped(length, width, height):\n",
    "    volume_of_plppd = lenght*width*height\n",
    "    return volume_of_plppd"
   ]
  },
  {
   "cell_type": "code",
   "execution_count": 33,
   "metadata": {},
   "outputs": [],
   "source": [
    "#Regular prism\n",
    "\n",
    "def volume_Rprism(base, height):\n",
    "    volume_of_Rprism = base*height\n",
    "    return volume_of_Rprism"
   ]
  },
  {
   "cell_type": "code",
   "execution_count": 34,
   "metadata": {},
   "outputs": [],
   "source": [
    "#Cylinder\n",
    "\n",
    "def volume_cylinder(radius, height):\n",
    "    volume_of_cylinder = ((math.pi)*radius**2)*height\n",
    "    return volume_of_cylinder"
   ]
  },
  {
   "cell_type": "code",
   "execution_count": 35,
   "metadata": {},
   "outputs": [],
   "source": [
    "#Cone (or pyramid)\n",
    "\n",
    "def volume_of_cone(base, height):\n",
    "    volume_of_cone = 1/3(base*height)\n",
    "    return volume_of_cone"
   ]
  },
  {
   "cell_type": "code",
   "execution_count": 36,
   "metadata": {},
   "outputs": [],
   "source": [
    "#Sphere\n",
    "\n",
    "def volume_sphere(radius):\n",
    "    volume_of_sphere = 4/3((math.pi)*radius**3)\n",
    "    return volume_of_sphere"
   ]
  },
  {
   "cell_type": "markdown",
   "metadata": {},
   "source": [
    "Functions and Equations"
   ]
  },
  {
   "cell_type": "code",
   "execution_count": 111,
   "metadata": {},
   "outputs": [],
   "source": [
    "# ax**2 + b + c = 0\n",
    "# y = (a(x-h)**2+k)\n",
    "\n",
    "\n",
    "# Quadratc formula \n",
    "\n",
    "def quadratic_equation(a, b, c):\n",
    "    f_of_x = (a*x**2 + b*x + c)\n",
    "    sol1 = (-b)+cmath.sqrt((b**2)-(4*a*c))/2*a\n",
    "    sol2 = (-b)-cmath.sqrt((b**2)-(4*a*c))/2*a\n",
    "    print('The solutions are {:.3f} and {:.3f}'.format(sol1, sol2))\n",
    "    \n",
    "    # Concavity\n",
    "    if a>0:\n",
    "        print('The equation is concave upward')\n",
    "    else:\n",
    "        print('The equation is concave downward')\n",
    "        \n",
    "    # Discriminant\n",
    "    delta = b**2 - (4*a*c)\n",
    "    print('Delta: {}'.format(delta))\n",
    "    \n",
    "    # Vertex of parabola\n",
    "    vertex1 = (-b/2*a)\n",
    "    vertex2 = (-delta/4*a)\n",
    "    printsol = print('V({}, {})'.format(vertex1, vertex2))\n",
    "    return printsol"
   ]
  },
  {
   "cell_type": "code",
   "execution_count": 109,
   "metadata": {},
   "outputs": [],
   "source": [
    "# Binomial by Smitha Dinesh Semwal. \n",
    "\n",
    "def factorial(n): \n",
    "    f = 1\n",
    "    for i in range(2, n+1): \n",
    "        f *= i       \n",
    "    return f \n",
    "\n",
    "# Function to print the series \n",
    "def series(A, X, n): \n",
    "    nFact = factorial(n) \n",
    "    for i in range(0, n + 1):   \n",
    "        niFact = factorial(n - i) \n",
    "        iFact = factorial(i) \n",
    "        aPow = pow(A, n - i)\n",
    "        xPow = pow(X, i)\n",
    "        print (int((nFact * aPow * xPow) /\n",
    "                   (niFact * iFact)), end = \" \")"
   ]
  },
  {
   "cell_type": "markdown",
   "metadata": {},
   "source": [
    "Radicals"
   ]
  },
  {
   "cell_type": "code",
   "execution_count": 129,
   "metadata": {},
   "outputs": [],
   "source": [
    "# nth root\n",
    "\n",
    "def radicals(a, n):\n",
    "    radical_root = math.trunc(a**1/n)\n",
    "    return radical_root"
   ]
  }
 ],
 "metadata": {
  "kernelspec": {
   "display_name": "Python 3",
   "language": "python",
   "name": "python3"
  },
  "language_info": {
   "codemirror_mode": {
    "name": "ipython",
    "version": 3
   },
   "file_extension": ".py",
   "mimetype": "text/x-python",
   "name": "python",
   "nbconvert_exporter": "python",
   "pygments_lexer": "ipython3",
   "version": "3.7.4"
  }
 },
 "nbformat": 4,
 "nbformat_minor": 2
}
